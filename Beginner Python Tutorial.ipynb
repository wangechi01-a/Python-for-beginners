{
 "cells": [
  {
   "cell_type": "markdown",
   "id": "8a6bf62c-0094-4664-a42c-fb5e0b30721d",
   "metadata": {},
   "source": [
    "# WHAT IS PYTHON\n",
    "Python is an interpreted, high-level language created by Guido van Rossum and released in 1991. It is dynamically typed and garbage collected.\n",
    "\n",
    "Python programs have the extension .py and can be run from the command line by typing python file_name.py.\n",
    "\n",
    "Probably its most noticeable characteristic is its use of significant white space to delimit code blocks, instead of the more popular {} symbols.\n",
    "\n",
    "End-of-line semicolons (;) are optional and usually not used in Python.\n",
    "\n",
    "Python becomes the best solution in many domains from web applications, data analysis, data science, machine learning, and AI.\n",
    "\n",
    "Common Feature Provided By python :\n",
    "\n",
    "Simplicity: Think less of the syntax of the language and more of the code.\n",
    "\n",
    "Open Source: A powerful language and it is free for everyone to use and alter as needed.\n",
    "\n",
    "Portability: Python code can be shared and it would work the same way it was intended to. Seamless and hassle-free.\n",
    "\n",
    "Being Embeddable & Extensible: Python can have snippets of other languages inside it to perform certain functions.\n",
    "\n",
    "Being Interpreted: The worries of large memory tasks and other heavy CPU tasks are taken care of by Python itself leaving you to worry only about coding.\n",
    "\n",
    "Object Orientation: Objects help breaking-down complex real-life problems into such that they can be coded and solved to obtain solutions.\n",
    "\n",
    "### Applications of Python.\n",
    "    \n",
    "Artificial Intelligence\n",
    "    \n",
    "Desktop Application\n",
    "\n",
    "Automation\n",
    "\n",
    "Web Development\n",
    "\n",
    "Data Wrangling, Exploration And Visualisation.\n",
    "    \n",
    "Installation:\n",
    "Download the latest version of Python for your operating system. \n",
    "\n",
    "So let create our first python program, hello world program.\n",
    "\n",
    "First, create a new folder where you will be saving you python files, let say .\n",
    "\n",
    "Second, launch the VS code and open the new folder you created, Lux.\n",
    "\n",
    "Third, create a new python file, let say app.py file and enter the following code and save the file:"
   ]
  },
  {
   "cell_type": "markdown",
   "id": "04bdef4f-02ba-4cd5-86f5-b96c2e447107",
   "metadata": {},
   "source": [
    "# Data Types\n",
    "- Python has several built-in data types, which can be broadly categorized as follows:\n",
    "\n",
    "#### Numeric Types:\n",
    "int: Integer type, e.g., 3, 42, -7\n",
    "\n",
    "float: Floating-point number (decimal), e.g., 3.14, -0.001\n",
    "\n",
    "complex: Complex numbers with a real and imaginary part, e.g., 2 + 3j\n",
    "\n",
    "#### Sequence Types:\n",
    "   \n",
    "str: String (sequence of characters), e.g., \"Hello\", 'Python'\n",
    "\n",
    "list: Mutable ordered sequence of elements, e.g., [1, 2, 3], [\"apple\", \"banana\"]\n",
    "\n",
    "tuple: Immutable ordered sequence of elements, e.g., (1, 2, 3), (\"apple\", \"banana\")\n",
    "\n",
    "range: Represents a range of numbers, e.g., range(0, 10)Mapping Type:\n",
    "\n",
    "dict: Dictionary, a collection of key-value pairs, e.g., {\"name\": \"Alice\", \"age\": 30}  \n",
    "\n",
    "#### Set Types:\n",
    "set: Unordered collection of unique elements, e.g., {1, 2, 3}, {\"apple\", \"banana\"}\n",
    "\n",
    "Boolean Type:\n",
    "\n",
    "bool: Represents True or False\n",
    "\n",
    "#### Binary Types:\n",
    "    \n",
    "bytes: Immutable sequence of bytes, e.g., b'hello'\n",
    "\n",
    "bytearray: Mutable sequence of bytes, e.g., bytearray(b'hello')\n",
    "\n",
    "memoryview: A view object that exposes the internal data of an object that supports the buffer protocol, e.g., memoryview(b'hello')\n",
    "\n",
    "### None Type:\n",
    "\n",
    "NoneType: Represents the absence of value, e.g., None\n",
    "\n",
    "### Callable Types:\n",
    "function: A function is a block of code which only runs when it is called.\n",
    "\n",
    "lambda: An anonymous, inline function defined using the lambda keyword.\n"
   ]
  },
  {
   "cell_type": "markdown",
   "id": "c2d682c5-ae3b-481c-9c5c-c362ab6e75c4",
   "metadata": {},
   "source": [
    "# Variables\n",
    " - Variables are containers for storing data value\n",
    "   \n",
    " - Variables are case sensitive"
   ]
  },
  {
   "cell_type": "code",
   "execution_count": 2,
   "id": "c48b0933-cf11-4e03-9dcf-82e37f0fad85",
   "metadata": {},
   "outputs": [
    {
     "name": "stdout",
     "output_type": "stream",
     "text": [
      "40\n"
     ]
    }
   ],
   "source": [
    "x = 40\n",
    "print(x)"
   ]
  },
  {
   "cell_type": "code",
   "execution_count": 3,
   "id": "979f86ba-c24a-4212-aa9e-2e186ad9316f",
   "metadata": {},
   "outputs": [
    {
     "data": {
      "text/plain": [
       "int"
      ]
     },
     "execution_count": 3,
     "metadata": {},
     "output_type": "execute_result"
    }
   ],
   "source": [
    "type(x)"
   ]
  },
  {
   "cell_type": "code",
   "execution_count": 4,
   "id": "bb49d7a4-3ccc-4a3f-8c24-4e8717653297",
   "metadata": {},
   "outputs": [
    {
     "name": "stdout",
     "output_type": "stream",
     "text": [
      "I love coding\n"
     ]
    }
   ],
   "source": [
    "x = 'I love coding'\n",
    "print(x)"
   ]
  },
  {
   "cell_type": "markdown",
   "id": "7623d859-6cfb-4516-b641-dbc14c5d3dd6",
   "metadata": {},
   "source": [
    "This flexibility allows Python variables to be reassigned with new values or types, but it's important to manage this carefully in more complex programs to avoid confusion or errors."
   ]
  },
  {
   "cell_type": "code",
   "execution_count": 5,
   "id": "ec1e0671-0e5e-4634-aee4-98d3a7d4b0b9",
   "metadata": {},
   "outputs": [
    {
     "name": "stdout",
     "output_type": "stream",
     "text": [
      "I love coding\n"
     ]
    }
   ],
   "source": [
    "print(x)"
   ]
  },
  {
   "cell_type": "code",
   "execution_count": 7,
   "id": "427a0442-4275-4d31-8a71-f7ace1a4d694",
   "metadata": {},
   "outputs": [
    {
     "name": "stdout",
     "output_type": "stream",
     "text": [
      "strawberry\n",
      "vanilla\n",
      "mango\n"
     ]
    }
   ],
   "source": [
    "ice_cream = ['strawberry', 'vanilla','mango']\n",
    "a,b,c = ice_cream\n",
    "print(a)\n",
    "print(b)\n",
    "print(c)"
   ]
  },
  {
   "cell_type": "markdown",
   "id": "c19e0843-dbd6-4ef0-bb4c-19f0783ab33d",
   "metadata": {},
   "source": [
    "# Data Types"
   ]
  },
  {
   "cell_type": "code",
   "execution_count": 8,
   "id": "16d079f8-8219-4ce6-9f61-64396ec5a902",
   "metadata": {},
   "outputs": [
    {
     "data": {
      "text/plain": [
       "int"
      ]
     },
     "execution_count": 8,
     "metadata": {},
     "output_type": "execute_result"
    }
   ],
   "source": [
    "type(12)\n"
   ]
  },
  {
   "cell_type": "code",
   "execution_count": 9,
   "id": "7296768a-a2b0-4b7a-ab26-0d6cf4aa7be5",
   "metadata": {},
   "outputs": [
    {
     "data": {
      "text/plain": [
       "float"
      ]
     },
     "execution_count": 9,
     "metadata": {},
     "output_type": "execute_result"
    }
   ],
   "source": [
    "type(10.01)"
   ]
  },
  {
   "cell_type": "code",
   "execution_count": 11,
   "id": "0e3b6a4d-758c-4521-a732-7795df896ae5",
   "metadata": {},
   "outputs": [
    {
     "data": {
      "text/plain": [
       "complex"
      ]
     },
     "execution_count": 11,
     "metadata": {},
     "output_type": "execute_result"
    }
   ],
   "source": [
    "type(10+3j)"
   ]
  },
  {
   "cell_type": "markdown",
   "id": "d5fce7dc-575f-41c5-b9b2-b53c0a90ba83",
   "metadata": {},
   "source": [
    "# Boolean values\n",
    "- Booleans represent one of two values: True or False."
   ]
  },
  {
   "cell_type": "code",
   "execution_count": 12,
   "id": "4495cba8-b25e-496e-b523-f0df2a812157",
   "metadata": {},
   "outputs": [
    {
     "data": {
      "text/plain": [
       "bool"
      ]
     },
     "execution_count": 12,
     "metadata": {},
     "output_type": "execute_result"
    }
   ],
   "source": [
    "type(1>5)"
   ]
  },
  {
   "cell_type": "code",
   "execution_count": 14,
   "id": "d2e9ca2f-935f-4fee-970c-1731e2dc51dd",
   "metadata": {},
   "outputs": [
    {
     "data": {
      "text/plain": [
       "False"
      ]
     },
     "execution_count": 14,
     "metadata": {},
     "output_type": "execute_result"
    }
   ],
   "source": [
    "bool(1>5)"
   ]
  },
  {
   "cell_type": "code",
   "execution_count": 15,
   "id": "27a6c6c9-c843-426f-aca5-7f771dd3ef28",
   "metadata": {},
   "outputs": [
    {
     "data": {
      "text/plain": [
       "True"
      ]
     },
     "execution_count": 15,
     "metadata": {},
     "output_type": "execute_result"
    }
   ],
   "source": [
    "bool(5>1)"
   ]
  },
  {
   "cell_type": "markdown",
   "id": "1b0fe1e3-e4f5-4c93-a5ba-0f0e2f83c959",
   "metadata": {},
   "source": [
    "# Strings\n",
    "### Python strings are zero-indexed, meaning that the first character of the string has index 0, the second character has index 1, and so on."
   ]
  },
  {
   "cell_type": "code",
   "execution_count": 16,
   "id": "8e5c934a-695f-452d-8d6b-4de221bc6375",
   "metadata": {},
   "outputs": [
    {
     "data": {
      "text/plain": [
       "'single quote'"
      ]
     },
     "execution_count": 16,
     "metadata": {},
     "output_type": "execute_result"
    }
   ],
   "source": [
    "'single quote'"
   ]
  },
  {
   "cell_type": "code",
   "execution_count": 17,
   "id": "f9c7393c-0897-4431-8235-c4428bf73797",
   "metadata": {},
   "outputs": [
    {
     "data": {
      "text/plain": [
       "'Ann'"
      ]
     },
     "execution_count": 17,
     "metadata": {},
     "output_type": "execute_result"
    }
   ],
   "source": [
    "\"Ann\""
   ]
  },
  {
   "cell_type": "code",
   "execution_count": 37,
   "id": "4ad64844-d5c7-48f6-9f1c-7710ae05c986",
   "metadata": {},
   "outputs": [
    {
     "name": "stdout",
     "output_type": "stream",
     "text": [
      "m\n"
     ]
    }
   ],
   "source": [
    "# Indexing\n",
    "a = 'My name is Monty!'\n",
    "print(a[5])#does not include the 5"
   ]
  },
  {
   "cell_type": "code",
   "execution_count": 47,
   "id": "2df6c714-cf92-4818-b040-172107679f4f",
   "metadata": {},
   "outputs": [
    {
     "name": "stdout",
     "output_type": "stream",
     "text": [
      "me is Monty!\n"
     ]
    }
   ],
   "source": [
    "# Slicing: Specify the start index and the end index, separated by a colon, to return a part of the string.\n",
    "print(a[5:]) # From 5 to the end"
   ]
  },
  {
   "cell_type": "code",
   "execution_count": 48,
   "id": "f29adedd-fd2e-40f9-b314-304869efb57b",
   "metadata": {},
   "outputs": [
    {
     "name": "stdout",
     "output_type": "stream",
     "text": [
      "My n\n"
     ]
    }
   ],
   "source": [
    "print(a[:4])# Get the characters from the start to position 4 (not included):"
   ]
  },
  {
   "cell_type": "code",
   "execution_count": 46,
   "id": "1995a0b4-1f17-42b1-99cc-aa70d1ba0380",
   "metadata": {},
   "outputs": [
    {
     "name": "stdout",
     "output_type": "stream",
     "text": [
      "ame \n"
     ]
    }
   ],
   "source": [
    "print(a[4:8])# start (inclusive): Start extracting from the character at index 4.\n",
    "# end (exclusive): Stop extracting before the character at index 4.\n",
    "# So, a[4:8] extracts characters starting at index 4 and ending before index 8\n"
   ]
  },
  {
   "cell_type": "code",
   "execution_count": 49,
   "id": "fb63b2b9-4ddc-4660-9885-1cb8cd2a4bd3",
   "metadata": {},
   "outputs": [
    {
     "name": "stdout",
     "output_type": "stream",
     "text": [
      "17\n"
     ]
    }
   ],
   "source": [
    "print(len(a))"
   ]
  },
  {
   "cell_type": "markdown",
   "id": "d655453c-6e0d-45c9-a948-50bf5c4ae549",
   "metadata": {},
   "source": [
    "## Multiline Strings\n",
    "- You can assign a multiline string to a variable by using three quotes:"
   ]
  },
  {
   "cell_type": "code",
   "execution_count": 42,
   "id": "5e6e14b4-0434-4ff3-b423-275f0942936e",
   "metadata": {},
   "outputs": [
    {
     "name": "stdout",
     "output_type": "stream",
     "text": [
      "I love coding,\n",
      "it makes me happy,\n",
      "hell yeah I'm nerd\n"
     ]
    }
   ],
   "source": [
    "b = '''I love coding,\n",
    "it makes me happy,\n",
    "hell yeah I'm nerd'''\n",
    "print(b)"
   ]
  },
  {
   "cell_type": "code",
   "execution_count": 1,
   "id": "e8243c3c-80fe-469e-abb2-703f6c0fe7d4",
   "metadata": {},
   "outputs": [
    {
     "name": "stdout",
     "output_type": "stream",
     "text": [
      "She said: \"Python is great!\"\n"
     ]
    }
   ],
   "source": [
    "#Example 3, escape characters:\n",
    "\n",
    "escape_str = \"She said: \\\"Python is great!\\\"\"\n",
    "print(escape_str) # She said: \"Python is great!\"  \n"
   ]
  },
  {
   "cell_type": "code",
   "execution_count": 2,
   "id": "d558e9b3-bbb2-49be-b290-af92ab8ebe15",
   "metadata": {},
   "outputs": [
    {
     "name": "stdout",
     "output_type": "stream",
     "text": [
      "Lux Academy\n"
     ]
    }
   ],
   "source": [
    "# Example 4, concatenate strings:\n",
    "\n",
    "one = \"Lux\"\n",
    "two = \"Academy\"\n",
    "print(one + \" \" + two) # Lux Academy \n",
    "## Note you can not concatenate strings with numbers"
   ]
  },
  {
   "cell_type": "code",
   "execution_count": 3,
   "id": "77cd98bc-5f6d-43a8-aceb-24c9391124b2",
   "metadata": {},
   "outputs": [
    {
     "name": "stdout",
     "output_type": "stream",
     "text": [
      "Welcome at Lux Academy!\n"
     ]
    }
   ],
   "source": [
    "# Example 5: interpolation.\n",
    "\n",
    "# method 1\n",
    "first_name = \"Lux\"\n",
    "last_name = \"Academy\"\n",
    "greet = f\"Welcome at {first_name} {last_name}!\" \n",
    "print(greet)  # Welcome at Lux Tech Academy!"
   ]
  },
  {
   "cell_type": "markdown",
   "id": "091bab56-0091-43f3-b1b1-c1b1149f9ade",
   "metadata": {},
   "source": [
    "# lists"
   ]
  },
  {
   "cell_type": "code",
   "execution_count": 25,
   "id": "a7e47063-a838-4b9d-9ee5-8cf97304353a",
   "metadata": {},
   "outputs": [
    {
     "data": {
      "text/plain": [
       "[1, 2, 3]"
      ]
     },
     "execution_count": 25,
     "metadata": {},
     "output_type": "execute_result"
    }
   ],
   "source": [
    "[1,2,3]"
   ]
  },
  {
   "cell_type": "code",
   "execution_count": 29,
   "id": "7290c0d0-641a-49c4-9701-be16dac12c13",
   "metadata": {},
   "outputs": [
    {
     "data": {
      "text/plain": [
       "['Rice', 'cakes']"
      ]
     },
     "execution_count": 29,
     "metadata": {},
     "output_type": "execute_result"
    }
   ],
   "source": [
    "['Rice','cakes']"
   ]
  },
  {
   "cell_type": "code",
   "execution_count": 27,
   "id": "fe21124b-2298-4f0f-aed7-088da9a5f9df",
   "metadata": {},
   "outputs": [
    {
     "data": {
      "text/plain": [
       "['rice', 4, 'oman']"
      ]
     },
     "execution_count": 27,
     "metadata": {},
     "output_type": "execute_result"
    }
   ],
   "source": [
    "['rice',4,'oman']"
   ]
  },
  {
   "cell_type": "code",
   "execution_count": 30,
   "id": "bf07338d-b505-4c52-8ce3-0c0130263486",
   "metadata": {},
   "outputs": [
    {
     "data": {
      "text/plain": [
       "['Rice', 'cakes', 'chapati']"
      ]
     },
     "execution_count": 30,
     "metadata": {},
     "output_type": "execute_result"
    }
   ],
   "source": [
    "goods = ['Rice','cakes']\n",
    "goods.append('chapati')\n",
    "goods"
   ]
  },
  {
   "cell_type": "code",
   "execution_count": 32,
   "id": "b755c95b-bd2c-432f-97b0-c25e447ea7c3",
   "metadata": {},
   "outputs": [
    {
     "data": {
      "text/plain": [
       "['porridge', 'cakes', 'chapati']"
      ]
     },
     "execution_count": 32,
     "metadata": {},
     "output_type": "execute_result"
    }
   ],
   "source": [
    "goods[0] = 'porridge'#Changing the index\n",
    "goods"
   ]
  },
  {
   "cell_type": "code",
   "execution_count": 35,
   "id": "a44d83fd-9b4b-40cb-8f88-2a65a6c6500e",
   "metadata": {},
   "outputs": [
    {
     "data": {
      "text/plain": [
       "list"
      ]
     },
     "execution_count": 35,
     "metadata": {},
     "output_type": "execute_result"
    }
   ],
   "source": [
    "type(goods)"
   ]
  },
  {
   "cell_type": "markdown",
   "id": "9b0aed07-4bab-4fe4-a7b9-8768f1b64ddf",
   "metadata": {},
   "source": [
    "### List Comprehension\n",
    "- List comprehension offers a shorter syntax when you want to create a new list based on the values of an existing list."
   ]
  },
  {
   "cell_type": "code",
   "execution_count": 17,
   "id": "7e1683bb-f7c9-4777-9c0d-808fb571db3d",
   "metadata": {},
   "outputs": [
    {
     "name": "stdout",
     "output_type": "stream",
     "text": [
      "['apple', 'banana', 'mango']\n"
     ]
    }
   ],
   "source": [
    "# Before :  write a for statement with a conditional test inside:\n",
    "fruits = [\"apple\", \"banana\", \"cherry\", \"kiwi\", \"mango\"]\n",
    "newlist = []\n",
    "\n",
    "for x in fruits:\n",
    "  if \"a\" in x:\n",
    "    newlist.append(x)\n",
    "\n",
    "print(newlist)"
   ]
  },
  {
   "cell_type": "markdown",
   "id": "9bbce621-28f8-44c6-88ae-651ed8b728c4",
   "metadata": {},
   "source": [
    "## newlist = [expression for item in iterable if condition == True]"
   ]
  },
  {
   "cell_type": "code",
   "execution_count": 18,
   "id": "9236edc8-e4ca-4edb-98d7-eae0e9b22f55",
   "metadata": {},
   "outputs": [
    {
     "name": "stdout",
     "output_type": "stream",
     "text": [
      "['apple', 'banana', 'mango']\n"
     ]
    }
   ],
   "source": [
    "# With list comprehension you can do all that with only one line of code\n",
    "fruits = [\"apple\", \"banana\", \"cherry\", \"kiwi\", \"mango\"]\n",
    "\n",
    "newlist = [x for x in fruits if \"a\" in x]\n",
    "\n",
    "print(newlist)"
   ]
  },
  {
   "cell_type": "code",
   "execution_count": 19,
   "id": "6f47db7c-1376-4ff2-b227-ba3ca5a4e6a9",
   "metadata": {},
   "outputs": [
    {
     "name": "stdout",
     "output_type": "stream",
     "text": [
      "['apple', 'banana', 'cherry', 'kiwi', 'mango']\n"
     ]
    }
   ],
   "source": [
    "fruits = [\"apple\", \"banana\", \"cherry\", \"kiwi\", \"mango\"]\n",
    "\n",
    "newlist = [x for x in fruits]# no conditions here\n",
    "\n",
    "print(newlist)"
   ]
  },
  {
   "cell_type": "markdown",
   "id": "7b0188d0-225d-4749-a8f9-48beec3a0773",
   "metadata": {},
   "source": [
    "# Tuples"
   ]
  },
  {
   "cell_type": "markdown",
   "id": "bd1428cb-c073-4f08-9d46-f5faa3ba9b0d",
   "metadata": {},
   "source": [
    "- A tuple is almost similar with lists the only difference is that a tuple is immutable(cannot be modified or changed after it is created)"
   ]
  },
  {
   "cell_type": "code",
   "execution_count": 33,
   "id": "c6c9b3ad-71c6-483e-a21f-8666d3448e28",
   "metadata": {},
   "outputs": [],
   "source": [
    "cakes = (1,2,4,6,8)"
   ]
  },
  {
   "cell_type": "code",
   "execution_count": 34,
   "id": "7095c8d8-d9dc-49c1-924b-3512ef84cf13",
   "metadata": {},
   "outputs": [
    {
     "data": {
      "text/plain": [
       "tuple"
      ]
     },
     "execution_count": 34,
     "metadata": {},
     "output_type": "execute_result"
    }
   ],
   "source": [
    "type(cakes)"
   ]
  },
  {
   "cell_type": "code",
   "execution_count": 37,
   "id": "781d0810-45ea-456c-8857-80aaf01fa6c0",
   "metadata": {},
   "outputs": [
    {
     "data": {
      "text/plain": [
       "6"
      ]
     },
     "execution_count": 37,
     "metadata": {},
     "output_type": "execute_result"
    }
   ],
   "source": [
    "cakes[3]"
   ]
  },
  {
   "cell_type": "code",
   "execution_count": null,
   "id": "38b44a05-6ccf-4ec2-9f75-2fb2a268c5de",
   "metadata": {},
   "outputs": [],
   "source": [
    "# Join the tuples"
   ]
  },
  {
   "cell_type": "code",
   "execution_count": 35,
   "id": "e9101415-a439-4449-b5e6-42d4b8c681ea",
   "metadata": {},
   "outputs": [
    {
     "name": "stdout",
     "output_type": "stream",
     "text": [
      "('a', 'b', 'c', 1, 2, 3)\n"
     ]
    }
   ],
   "source": [
    "tuple1 = (\"a\", \"b\" , \"c\")\n",
    "tuple2 = (1, 2, 3)\n",
    "\n",
    "tuple3 = tuple1 + tuple2\n",
    "print(tuple3)"
   ]
  },
  {
   "cell_type": "markdown",
   "id": "62c89564-89fc-4bcf-a9f0-335791a49679",
   "metadata": {},
   "source": [
    "The only way you can change a tuple is first converting it to a list then change back to a tuple"
   ]
  },
  {
   "cell_type": "code",
   "execution_count": 28,
   "id": "a93f8010-e7ba-465e-849b-2ce49d1d5531",
   "metadata": {},
   "outputs": [
    {
     "name": "stdout",
     "output_type": "stream",
     "text": [
      "('apple', 'kiwi', 'cherry')\n"
     ]
    }
   ],
   "source": [
    "x = (\"apple\", \"banana\", \"cherry\")\n",
    "y = list(x)\n",
    "y[1] = \"kiwi\"\n",
    "x = tuple(y)\n",
    "\n",
    "print(x)"
   ]
  },
  {
   "cell_type": "markdown",
   "id": "9284d99b-8f33-4cfc-9244-f551d4fec836",
   "metadata": {},
   "source": [
    "# Indexing"
   ]
  },
  {
   "cell_type": "code",
   "execution_count": 29,
   "id": "3d4499c8-cb89-44eb-a19c-efcbff303afd",
   "metadata": {},
   "outputs": [
    {
     "name": "stdout",
     "output_type": "stream",
     "text": [
      "cherry\n"
     ]
    }
   ],
   "source": [
    "this_tuple = (\"apple\", \"banana\", \"cherry\")\n",
    "print(this_tuple[-1])# -1 means starting from the furthest right end"
   ]
  },
  {
   "cell_type": "markdown",
   "id": "564a2b7e-fc03-44da-9c46-5913220814be",
   "metadata": {},
   "source": [
    "# Deleting"
   ]
  },
  {
   "cell_type": "code",
   "execution_count": 33,
   "id": "c4a2491e-d2ed-4e29-93a3-7922076bf4c7",
   "metadata": {},
   "outputs": [],
   "source": [
    "this_tuple = (\"apple\", \"banana\", \"cherry\")\n",
    "del this_tuple "
   ]
  },
  {
   "cell_type": "code",
   "execution_count": 34,
   "id": "2419c72e-90d5-42f9-8c12-7a2bf06b5578",
   "metadata": {},
   "outputs": [
    {
     "ename": "NameError",
     "evalue": "name 'this_tuple' is not defined",
     "output_type": "error",
     "traceback": [
      "\u001b[1;31m---------------------------------------------------------------------------\u001b[0m",
      "\u001b[1;31mNameError\u001b[0m                                 Traceback (most recent call last)",
      "Cell \u001b[1;32mIn[34], line 1\u001b[0m\n\u001b[1;32m----> 1\u001b[0m \u001b[38;5;28mprint\u001b[39m(this_tuple)\n",
      "\u001b[1;31mNameError\u001b[0m: name 'this_tuple' is not defined"
     ]
    }
   ],
   "source": [
    "print(this_tuple) # Error cause its already deleted"
   ]
  },
  {
   "cell_type": "markdown",
   "id": "656d06fd-d9c1-4f61-be72-81ec93cdb9e7",
   "metadata": {},
   "source": [
    "# Sets\n",
    "- is a built-in data type that represents an unordered collection of unique elements."
   ]
  },
  {
   "cell_type": "code",
   "execution_count": 2,
   "id": "5699598c-1db3-452e-b3ab-900fe0797144",
   "metadata": {},
   "outputs": [
    {
     "name": "stdout",
     "output_type": "stream",
     "text": [
      "{1, 2, 3, 4}\n"
     ]
    }
   ],
   "source": [
    "# Using curly braces\n",
    "my_log = {1, 2, 3, 4}\n",
    "print(my_log) "
   ]
  },
  {
   "cell_type": "code",
   "execution_count": 3,
   "id": "bffe2a7b-97dc-4761-9661-c86968fd302b",
   "metadata": {},
   "outputs": [
    {
     "data": {
      "text/plain": [
       "set"
      ]
     },
     "execution_count": 3,
     "metadata": {},
     "output_type": "execute_result"
    }
   ],
   "source": [
    "type(my_log)"
   ]
  },
  {
   "cell_type": "code",
   "execution_count": 4,
   "id": "82e13dfe-a8ad-4bbb-89a6-d9cf23990df7",
   "metadata": {},
   "outputs": [
    {
     "name": "stdout",
     "output_type": "stream",
     "text": [
      "{1, 2, 3, 4, 6, 40, 89}\n"
     ]
    }
   ],
   "source": [
    "# Using the set() function\n",
    "another_set = set([1, 2, 3, 4, 4,6,89,40])  # Note: the duplicate '4' will be ignored\n",
    "print(another_set) "
   ]
  },
  {
   "cell_type": "code",
   "execution_count": 5,
   "id": "b933114d-9a5e-4f74-b198-b25dfa8dbca9",
   "metadata": {},
   "outputs": [
    {
     "name": "stdout",
     "output_type": "stream",
     "text": [
      "{1, 2, 3, 4, 6, 40, 89}\n"
     ]
    }
   ],
   "source": [
    "print(my_log | another_set ) # all unique values betwwen the two sets"
   ]
  },
  {
   "cell_type": "code",
   "execution_count": 6,
   "id": "33f3e4e1-ff8e-438a-b41f-bdc2baeddf15",
   "metadata": {},
   "outputs": [
    {
     "name": "stdout",
     "output_type": "stream",
     "text": [
      "{1, 2, 3, 4}\n"
     ]
    }
   ],
   "source": [
    "print(my_log & another_set )# which one show up in both sets"
   ]
  },
  {
   "cell_type": "code",
   "execution_count": 9,
   "id": "fab5d099-a3a1-40b5-b375-38546d0ed20f",
   "metadata": {},
   "outputs": [
    {
     "name": "stdout",
     "output_type": "stream",
     "text": [
      "{40, 89, 6}\n"
     ]
    }
   ],
   "source": [
    "print(another_set - my_log )# what doesnt match"
   ]
  },
  {
   "cell_type": "markdown",
   "id": "6f7cc4ca-39bb-4257-8562-9238f31297cb",
   "metadata": {},
   "source": [
    "# Dictionaries\n",
    " Key/value pair"
   ]
  },
  {
   "cell_type": "code",
   "execution_count": 10,
   "id": "c99919e9-9613-486c-a804-0d060c0b31e5",
   "metadata": {},
   "outputs": [],
   "source": [
    "dict_cake = {'name': 'Peter', 'daily intake': 5, 'favorite cake': ['Pauls', 'Chocolate']}"
   ]
  },
  {
   "cell_type": "code",
   "execution_count": 12,
   "id": "53d18edc-f748-421a-b1b4-922099525b1f",
   "metadata": {},
   "outputs": [
    {
     "data": {
      "text/plain": [
       "dict"
      ]
     },
     "execution_count": 12,
     "metadata": {},
     "output_type": "execute_result"
    }
   ],
   "source": [
    "type(dict_cake)"
   ]
  },
  {
   "cell_type": "code",
   "execution_count": 13,
   "id": "164c4dac-ac05-448a-96ae-f618e7c0979a",
   "metadata": {},
   "outputs": [
    {
     "data": {
      "text/plain": [
       "dict_values(['Peter', 5, ['Pauls', 'Chocolate']])"
      ]
     },
     "execution_count": 13,
     "metadata": {},
     "output_type": "execute_result"
    }
   ],
   "source": [
    "dict_cake.values()"
   ]
  },
  {
   "cell_type": "code",
   "execution_count": 14,
   "id": "a1b34936-8bbd-4c02-a21c-798a7d4eec92",
   "metadata": {},
   "outputs": [
    {
     "data": {
      "text/plain": [
       "dict_keys(['name', 'daily intake', 'favorite cake'])"
      ]
     },
     "execution_count": 14,
     "metadata": {},
     "output_type": "execute_result"
    }
   ],
   "source": [
    "dict_cake.keys()"
   ]
  },
  {
   "cell_type": "code",
   "execution_count": 16,
   "id": "078e6295-4d70-4027-8c33-a6d5a5ef57aa",
   "metadata": {},
   "outputs": [
    {
     "name": "stdout",
     "output_type": "stream",
     "text": [
      "{'name': 'Rose', 'daily intake': 5, 'favorite cake': ['Pauls', 'Chocolate']}\n"
     ]
    }
   ],
   "source": [
    "dict_cake['name'] = 'Rose'\n",
    "print(dict_cake)"
   ]
  },
  {
   "cell_type": "markdown",
   "id": "8c2799f5-b7e7-4d27-9f29-94bc5a242762",
   "metadata": {},
   "source": [
    "# Operators\n",
    "== Equal\n",
    "\n",
    "!= Not Equal\n",
    "\n",
    "> Greater than\n",
    "\n",
    ">= greater than or equal to\n",
    "\n",
    "< less than\n",
    "\n",
    "<= Less than or equal to"
   ]
  },
  {
   "cell_type": "code",
   "execution_count": 17,
   "id": "8cfa6924-2b1d-4c23-aad7-9ddf36d3cf12",
   "metadata": {},
   "outputs": [
    {
     "data": {
      "text/plain": [
       "True"
      ]
     },
     "execution_count": 17,
     "metadata": {},
     "output_type": "execute_result"
    }
   ],
   "source": [
    "10 ==10"
   ]
  },
  {
   "cell_type": "code",
   "execution_count": 18,
   "id": "a79126d1-8127-4a00-add0-71d8f49a037b",
   "metadata": {},
   "outputs": [
    {
     "data": {
      "text/plain": [
       "True"
      ]
     },
     "execution_count": 18,
     "metadata": {},
     "output_type": "execute_result"
    }
   ],
   "source": [
    "10 != 40"
   ]
  },
  {
   "cell_type": "code",
   "execution_count": 19,
   "id": "1871b86a-bb15-437f-844c-a2dccefc02ce",
   "metadata": {},
   "outputs": [
    {
     "data": {
      "text/plain": [
       "True"
      ]
     },
     "execution_count": 19,
     "metadata": {},
     "output_type": "execute_result"
    }
   ],
   "source": [
    "'Chocolate' == 'Chocolate'"
   ]
  },
  {
   "cell_type": "code",
   "execution_count": 20,
   "id": "ea5f77f7-085a-44fe-aa56-bdcaba3de237",
   "metadata": {},
   "outputs": [
    {
     "data": {
      "text/plain": [
       "False"
      ]
     },
     "execution_count": 20,
     "metadata": {},
     "output_type": "execute_result"
    }
   ],
   "source": [
    "'Chocolate' == 'Vanilla'"
   ]
  },
  {
   "cell_type": "code",
   "execution_count": 26,
   "id": "65cb1645-d8d4-4672-bf04-0bcebe4419b1",
   "metadata": {},
   "outputs": [
    {
     "data": {
      "text/plain": [
       "True"
      ]
     },
     "execution_count": 26,
     "metadata": {},
     "output_type": "execute_result"
    }
   ],
   "source": [
    "40 >= 10"
   ]
  },
  {
   "cell_type": "code",
   "execution_count": 22,
   "id": "a1d3fd56-3159-4e2c-be4d-a6d4af0eb1cc",
   "metadata": {},
   "outputs": [
    {
     "data": {
      "text/plain": [
       "False"
      ]
     },
     "execution_count": 22,
     "metadata": {},
     "output_type": "execute_result"
    }
   ],
   "source": [
    "50 <= 10"
   ]
  },
  {
   "cell_type": "code",
   "execution_count": 27,
   "id": "71b07049-6aac-4821-b9c9-5d1622ae47a4",
   "metadata": {},
   "outputs": [
    {
     "name": "stdout",
     "output_type": "stream",
     "text": [
      "b is not greater than a\n"
     ]
    }
   ],
   "source": [
    "a = 150\n",
    "b = 36\n",
    "\n",
    "if b > a:\n",
    "  print(\"b is greater than a\")\n",
    "else:\n",
    "  print(\"b is not greater than a\")"
   ]
  },
  {
   "cell_type": "markdown",
   "id": "c8c0f43e-5027-4c78-97ce-e36d63256830",
   "metadata": {},
   "source": [
    "# LOGICAL OPERATORS\n",
    "and = Returns True if both Statements are True\n",
    "\n",
    "or = Returns True if one of the statements is True\n",
    "\n",
    "not = Reverses the results and returns False if the result is True"
   ]
  },
  {
   "cell_type": "code",
   "execution_count": 12,
   "id": "07aa41c4-4014-4950-aee1-3147e9825c8a",
   "metadata": {},
   "outputs": [
    {
     "data": {
      "text/plain": [
       "True"
      ]
     },
     "execution_count": 12,
     "metadata": {},
     "output_type": "execute_result"
    }
   ],
   "source": [
    "(20>10) and (30>5)\n"
   ]
  },
  {
   "cell_type": "code",
   "execution_count": 14,
   "id": "eb3c4809-2cf7-4465-b8f1-af461a034b28",
   "metadata": {},
   "outputs": [
    {
     "data": {
      "text/plain": [
       "True"
      ]
     },
     "execution_count": 14,
     "metadata": {},
     "output_type": "execute_result"
    }
   ],
   "source": [
    "(70>10) or (80>500) #one of the statement is true"
   ]
  },
  {
   "cell_type": "code",
   "execution_count": 15,
   "id": "74ed2895-3b36-4e32-882a-0be79b542648",
   "metadata": {},
   "outputs": [
    {
     "data": {
      "text/plain": [
       "False"
      ]
     },
     "execution_count": 15,
     "metadata": {},
     "output_type": "execute_result"
    }
   ],
   "source": [
    "not(20>10) and (30>5)\n"
   ]
  },
  {
   "cell_type": "markdown",
   "id": "fc15dc2e-f821-4c30-87af-b134f3efa2a7",
   "metadata": {},
   "source": [
    "## If Statements\n",
    "- An \"if statement\" is written by using the if keyword.\n",
    "- \"if statement\" checks the condition first\n",
    "- if the condition evaluates to True, it executes the statement in the block otherwise ignore it\n",
    "#### Colon (:) that follows the condition is very important"
   ]
  },
  {
   "cell_type": "code",
   "execution_count": 24,
   "id": "d61ada8a-ed11-4a9e-94f0-c0c8af5f1a4a",
   "metadata": {},
   "outputs": [
    {
     "name": "stdout",
     "output_type": "stream",
     "text": [
      "b is greater than a\n"
     ]
    }
   ],
   "source": [
    "a = 33\n",
    "b = 200\n",
    "if b > a:\n",
    "  print(\"b is greater than a\")"
   ]
  },
  {
   "cell_type": "code",
   "execution_count": 25,
   "id": "816500c1-9904-4552-a653-d7fa78f5353b",
   "metadata": {},
   "outputs": [
    {
     "name": "stdout",
     "output_type": "stream",
     "text": [
      "You're Eligible to vote\n"
     ]
    }
   ],
   "source": [
    "age= 23\n",
    "if int(23) >= 18:\n",
    "    print(\"You're Eligible to vote\")\n",
    "    "
   ]
  },
  {
   "cell_type": "markdown",
   "id": "a7f8fedd-3e69-4223-828c-5ba1244352e7",
   "metadata": {},
   "source": [
    "## Elif\n",
    "- The elif keyword is Python's way of saying \"if the previous conditions were not true, then try this condition\".\n",
    "- The code inside the else block will only execute if all previous conditions were False"
   ]
  },
  {
   "cell_type": "code",
   "execution_count": 31,
   "id": "b6070024-8d2c-462d-8d74-103b2cb039f4",
   "metadata": {},
   "outputs": [
    {
     "name": "stdout",
     "output_type": "stream",
     "text": [
      "a and b are equal\n"
     ]
    }
   ],
   "source": [
    "a = 33\n",
    "b = 33\n",
    "if b > a:\n",
    "  print(\"b is greater than a\")\n",
    "elif a == b:\n",
    "  print(\"a and b are equal\")"
   ]
  },
  {
   "cell_type": "markdown",
   "id": "a58e1bbc-e5c4-44f4-9a37-7828b5314761",
   "metadata": {},
   "source": [
    "### Else\n",
    "- It acts as a catch-all for cases where none of the if or elif conditions are True."
   ]
  },
  {
   "cell_type": "code",
   "execution_count": 32,
   "id": "ea5d871d-ab1d-4f43-aaa1-8fe4199d459b",
   "metadata": {},
   "outputs": [
    {
     "name": "stdout",
     "output_type": "stream",
     "text": [
      "a is greater than b\n"
     ]
    }
   ],
   "source": [
    "a = 140\n",
    "b = 36\n",
    "if b > a:\n",
    "  print(\"b is greater than a\")\n",
    "elif a == b:\n",
    "  print(\"a and b are equal\")\n",
    "else:\n",
    "  print(\"a is greater than b\")\n",
    "## In this example a is greater than b, so the first condition is not true, \n",
    "## also the elif condition is not true, so we go to the else condition and print to screen that \"a is greater than b\"."
   ]
  },
  {
   "cell_type": "markdown",
   "id": "fe56077e-ff88-4e2e-98ee-01bd76dad098",
   "metadata": {},
   "source": [
    "## Loops\n",
    "### For Loop\n",
    "- A for loop in Python is used to iterate over a sequence (like a list, tuple, string, or range) and execute a block of code repeatedly for each element in the sequence. It is a common way to handle tasks like traversing through a list of items, performing repetitive operations, and mor"
   ]
  },
  {
   "cell_type": "code",
   "execution_count": 33,
   "id": "7a8d3ef4-8ab0-4ebc-a492-da8a6a148412",
   "metadata": {},
   "outputs": [
    {
     "name": "stdout",
     "output_type": "stream",
     "text": [
      "apple\n",
      "banana\n",
      "cherry\n"
     ]
    }
   ],
   "source": [
    "fruits = [\"apple\", \"banana\", \"cherry\"]\n",
    "\n",
    "for fruit in fruits:\n",
    "    print(fruit)\n"
   ]
  },
  {
   "cell_type": "code",
   "execution_count": 34,
   "id": "39b6f100-941d-4e4d-9a6e-5077971d5ddf",
   "metadata": {},
   "outputs": [
    {
     "name": "stdout",
     "output_type": "stream",
     "text": [
      "0\n",
      "1\n",
      "2\n",
      "3\n",
      "4\n",
      "5\n",
      "6\n"
     ]
    }
   ],
   "source": [
    "for i in range(7):# used in for loops when you need to iterate a certain number of times.\n",
    "    print(i)\n"
   ]
  },
  {
   "cell_type": "code",
   "execution_count": 36,
   "id": "76b39d16-c6cf-421c-9b13-586732ee9d6d",
   "metadata": {},
   "outputs": [
    {
     "name": "stdout",
     "output_type": "stream",
     "text": [
      "0\n",
      "1\n",
      "2\n"
     ]
    }
   ],
   "source": [
    "# foor loop\n",
    "for x in range(0, 3):\n",
    "  print(x)"
   ]
  },
  {
   "cell_type": "code",
   "execution_count": 35,
   "id": "e9c2b794-04ca-4bae-9d50-b8340d9e19c8",
   "metadata": {},
   "outputs": [
    {
     "name": "stdout",
     "output_type": "stream",
     "text": [
      "apple\n",
      "banana\n"
     ]
    }
   ],
   "source": [
    "# Break\n",
    "fruits = [\"apple\", \"banana\", \"cherry\"]\n",
    "for x in fruits:\n",
    "  print(x) \n",
    "  if x == \"banana\":\n",
    "    break # break: Exits the loop prematurely, stopping further iteration."
   ]
  },
  {
   "cell_type": "code",
   "execution_count": 37,
   "id": "94b43985-b724-49e8-a5cf-bc0d556f4beb",
   "metadata": {},
   "outputs": [
    {
     "name": "stdout",
     "output_type": "stream",
     "text": [
      "apple\n",
      "cherry\n"
     ]
    }
   ],
   "source": [
    "# Continue\n",
    "fruits = [\"apple\", \"banana\", \"cherry\"]\n",
    "for x in fruits:\n",
    "  if x == \"banana\":\n",
    "    continue\n",
    "  print(x) # With the continue statement we can stop the current iteration of the loop, and continue with the next:"
   ]
  },
  {
   "cell_type": "markdown",
   "id": "affed638-7a4a-4186-85f7-26087dc2a9bd",
   "metadata": {},
   "source": [
    "## While Loop\n",
    " \n",
    "- A while loop in Python repeatedly executes a block of code as long as a given condition remains True. Unlike a for loop, which iterates over a sequence, a while loop runs based on a condition and continues until that condition becomes False."
   ]
  },
  {
   "cell_type": "code",
   "execution_count": 38,
   "id": "3d894d09-9d90-41e1-acbc-11d765603384",
   "metadata": {},
   "outputs": [
    {
     "name": "stdout",
     "output_type": "stream",
     "text": [
      "1\n",
      "2\n",
      "3\n",
      "4\n"
     ]
    }
   ],
   "source": [
    "i = 1\n",
    "while i < 5:\n",
    "  print(i)\n",
    "  i += 1"
   ]
  },
  {
   "cell_type": "markdown",
   "id": "6b6832fb-39f5-422d-9ba0-7805ed6243f1",
   "metadata": {},
   "source": [
    "####  A while loop will continue running indefinitely if the condition never becomes False. This can lead to an infinite loop, where the loop runs forever. You should ensure there’s a way for the condition to become False inside the loop using: Break\n"
   ]
  },
  {
   "cell_type": "code",
   "execution_count": 40,
   "id": "d527559b-0f8d-42e5-8f0e-f5080e34f659",
   "metadata": {},
   "outputs": [
    {
     "name": "stdout",
     "output_type": "stream",
     "text": [
      "0\n",
      "1\n",
      "2\n",
      "3\n",
      "4\n",
      "5\n",
      "6\n"
     ]
    }
   ],
   "source": [
    "count = 0\n",
    "\n",
    "while count < 10:\n",
    "    if count == 7:\n",
    "        break  # Exit the loop when count reaches 7\n",
    "    print(count)\n",
    "    count += 1\n"
   ]
  },
  {
   "cell_type": "markdown",
   "id": "fd9963bf-9156-47a1-b215-c979eb972d8e",
   "metadata": {},
   "source": [
    "#### Continue-  skips the current iteration."
   ]
  },
  {
   "cell_type": "code",
   "execution_count": 41,
   "id": "45581de0-549c-42bf-96c8-0fec1459e38b",
   "metadata": {},
   "outputs": [
    {
     "name": "stdout",
     "output_type": "stream",
     "text": [
      "1\n",
      "2\n",
      "4\n",
      "5\n",
      "6\n"
     ]
    }
   ],
   "source": [
    "i = 0\n",
    "while i < 6:\n",
    "  i += 1\n",
    "  if i == 3:\n",
    "    continue # Skip printing when count is 3\n",
    "  print(i)"
   ]
  },
  {
   "cell_type": "markdown",
   "id": "817d4fec-bec0-4441-b559-2080db7997d2",
   "metadata": {},
   "source": [
    "## Functions \n",
    "A function is a block of code which only runs when it is called.\r\n",
    "\r\n",
    "You can pass data, known as parameters, into a function.\r\n",
    "\r\n",
    "A function can return data as a res\n",
    "\n",
    "### From a function's perspective:\r\n",
    "\r\n",
    "A parameter is the variable listed inside the parentheses in the function definition.\r\n",
    "\r\n",
    "An argument is the value that is sent to the function when it is called.ult."
   ]
  },
  {
   "cell_type": "code",
   "execution_count": 44,
   "id": "58d7c03d-b197-485d-879e-7d786cb00f09",
   "metadata": {},
   "outputs": [
    {
     "name": "stdout",
     "output_type": "stream",
     "text": [
      "Hello, welcome!\n"
     ]
    }
   ],
   "source": [
    "# without parameters\n",
    "def greet(): # def: The keyword to define a function.\n",
    "    print(\"Hello, welcome!\")\n",
    "\n",
    "greet()  # Call the function\n"
   ]
  },
  {
   "cell_type": "code",
   "execution_count": 43,
   "id": "f860e815-92fe-4af4-9593-2bc403442789",
   "metadata": {},
   "outputs": [
    {
     "name": "stdout",
     "output_type": "stream",
     "text": [
      "Hello, Lux!\n"
     ]
    }
   ],
   "source": [
    "# Example 2 With parameters\n",
    "def greet(name):\n",
    "    print(f\"Hello, {name}!\")\n",
    "\n",
    "greet(\"Lux\")  # Call the function with an argument\n"
   ]
  },
  {
   "cell_type": "markdown",
   "id": "2856be85-7d02-4158-bd00-31943f3d18b7",
   "metadata": {},
   "source": [
    "### Assignment : Go and check what *args and **kwargs are and how they are used:"
   ]
  },
  {
   "cell_type": "markdown",
   "id": "e207ef3b-beb9-4323-9930-35f70eafa340",
   "metadata": {},
   "source": [
    "## Lambda function\n",
    "- syntax: lambda arguments : expression\n",
    "- A lambda function is a small anonymous function that can have any number of arguments but only one expression."
   ]
  },
  {
   "cell_type": "code",
   "execution_count": 46,
   "id": "a2eb6dd9-5b0d-4d7f-bebf-854bd41b7812",
   "metadata": {},
   "outputs": [
    {
     "name": "stdout",
     "output_type": "stream",
     "text": [
      "25\n"
     ]
    }
   ],
   "source": [
    "square = lambda x: x ** 2\n",
    "print(square(5)) \n"
   ]
  },
  {
   "cell_type": "code",
   "execution_count": 47,
   "id": "9001111d-ae75-4432-bf60-7561d2302cb4",
   "metadata": {},
   "outputs": [
    {
     "name": "stdout",
     "output_type": "stream",
     "text": [
      "30\n"
     ]
    }
   ],
   "source": [
    "x = lambda a, b : a * b\n",
    "print(x(5, 6))# multiple arguments"
   ]
  },
  {
   "cell_type": "markdown",
   "id": "86bace97-ee88-4cd2-87ad-20ab8cb8bbbd",
   "metadata": {},
   "source": [
    "### Class and Objects\n",
    "- A class is a blueprint for creating objects. It defines a set of attributes (data) and methods (functions) that the objects created from the class can use\n",
    "- The self Parameter\n",
    "  \r\n",
    "The self parameter is a reference to the current instance of the class, and is used to access variables that belongs to the class.\r\n",
    "\r\n",
    "It does not have to be named self , you can call it whatever you like, but it has to be the first parameter of any function in the class:"
   ]
  },
  {
   "cell_type": "code",
   "execution_count": 52,
   "id": "ef86f0be-0b75-4d1f-8378-4ee35f0ae3d7",
   "metadata": {},
   "outputs": [],
   "source": [
    "# Basic Syntax\n",
    "class ClassName:\n",
    "    def __init__(self, parameters):\n",
    "        # Constructor: Initializes attributes\n",
    "        self.attribute = parameters\n",
    "\n",
    "    def method(self):\n",
    "        # Method: Defines a behavior of the class\n",
    "        pass\n",
    "\n",
    "        \n",
    "# class: The keyword used to define a class.\n",
    "# __init__: A special method called a constructor that initializes the object’s attributes when an instance is created.\n",
    "# self: A reference to the current instance of the class. It is used to access attributes and methods within the class."
   ]
  },
  {
   "cell_type": "code",
   "execution_count": 54,
   "id": "260bd4e1-a888-46a7-9a91-56bb5e0aa24a",
   "metadata": {},
   "outputs": [
    {
     "name": "stdout",
     "output_type": "stream",
     "text": [
      "Rio\n",
      "Rio says Woof!\n"
     ]
    }
   ],
   "source": [
    "class Dog:\n",
    "    def __init__(self, name, age):\n",
    "        self.name = name  # Attribute for dog's name\n",
    "        self.age = age    # Attribute for dog's age\n",
    "\n",
    "    def bark(self):  # Method for dog's bark behavior\n",
    "        return f\"{self.name} says Woof!\"\n",
    "\n",
    "# Creating an object (instance) of the Dog class\n",
    "my_dog = Dog(\"Rio\", 3)\n",
    "\n",
    "# Accessing attributes and methods\n",
    "print(my_dog.name)\n",
    "print(my_dog.bark()) \n"
   ]
  },
  {
   "cell_type": "markdown",
   "id": "ea00ea1f-c55b-44f3-ba70-42619cee58b2",
   "metadata": {},
   "source": [
    "#### An object is an instance of a class. When you create an object from a class, you can access the class’s attributes and methods.\n",
    "\n",
    "Creating Objects:\n",
    "You can create multiple objects from the same class, each with its own attributes."
   ]
  },
  {
   "cell_type": "code",
   "execution_count": 56,
   "id": "fb9e96b9-081a-4c7a-82fd-1e145d35759e",
   "metadata": {},
   "outputs": [
    {
     "name": "stdout",
     "output_type": "stream",
     "text": [
      "Rio says Woof!\n",
      "Max says Woof!\n"
     ]
    }
   ],
   "source": [
    "dog1 = Dog(\"Rio\", 3)\n",
    "dog2 = Dog(\"Max\", 5)\n",
    "\n",
    "print(dog1.bark()) \n",
    "print(dog2.bark()) \n"
   ]
  },
  {
   "cell_type": "markdown",
   "id": "d3312505-e91d-4559-b249-d7b78461c037",
   "metadata": {},
   "source": [
    "## Inheritance\n",
    "Inheritance allows a class (child class) to inherit attributes and methods from another class (parent class). It promotes code reusability.\n",
    "\n",
    "Inheritance allows us to define a class that inherits all the methods and properties from another class.\r\n",
    "\r\n",
    "Parent class is the class being inherited from, also called base class.\r\n",
    "\r\n",
    "Child class is the class that inherits from another class, also called derived class."
   ]
  },
  {
   "cell_type": "code",
   "execution_count": 62,
   "id": "5f8e8e1a-a6e2-49dc-b04b-7cb2780479b1",
   "metadata": {},
   "outputs": [
    {
     "name": "stdout",
     "output_type": "stream",
     "text": [
      "Buddy\n",
      "Woof!\n",
      "Whiskers\n",
      "Meow!\n"
     ]
    }
   ],
   "source": [
    "# Parent class\n",
    "class Animal:\n",
    "    def __init__(self, name):  # Constructor method, initializes the object with a 'name' attribute\n",
    "        self.name = name  # 'self.name' is an instance attribute, set to the value of the 'name' parameter\n",
    "\n",
    "    def speak(self):  # A method in the parent class that will be overridden by child classes\n",
    "        return \"Some generic sound\"  # Returns a generic sound for any generic animal\n",
    "\n",
    "# Child class that inherits from the Animal class\n",
    "class Dog(Animal):  # 'Dog' class inherits from 'Animal', meaning it has access to its attributes and methods\n",
    "    def speak(self):  # Overrides the 'speak()' method from the Animal class\n",
    "        return \"Woof!\"  # Returns \"Woof!\" when called, specific to dogs\n",
    "\n",
    "# Another child class that inherits from the Animal class\n",
    "class Cat(Animal):  # 'Cat' class also inherits from 'Animal'\n",
    "    def speak(self):  # Overrides the 'speak()' method from the Animal class\n",
    "        return \"Meow!\"  # Returns \"Meow!\" when called, specific to cats\n",
    "\n",
    "# Creating objects of Dog and Cat classes\n",
    "dog = Dog(\"Buddy\")  # Creating an instance of the Dog class with the name 'Buddy'. The __init__ method from Animal is called here.\n",
    "cat = Cat(\"Whiskers\")  # Creating an instance of the Cat class with the name 'Whiskers'. The __init__ method from Animal is called.\n",
    "\n",
    "# Calling methods\n",
    "print(dog.name)    # Accesses the 'name' attribute of the dog object, prints: Buddy\n",
    "print(dog.speak()) # Calls the 'speak()' method of the dog object, prints: Woof!\n",
    "print(cat.name)    # Accesses the 'name' attribute of the cat object, prints: Whiskers\n",
    "print(cat.speak()) # Calls the 'speak()' method of the cat object, prints: Meow!\n"
   ]
  },
  {
   "cell_type": "markdown",
   "id": "7d438935-ef5a-4ee1-8c6a-955899f58e29",
   "metadata": {},
   "source": [
    "## File Handling"
   ]
  },
  {
   "cell_type": "code",
   "execution_count": null,
   "id": "67b5967e-efe8-4190-95fd-c98fb328a612",
   "metadata": {},
   "outputs": [],
   "source": []
  },
  {
   "cell_type": "code",
   "execution_count": null,
   "id": "2b4be23b-a969-4a03-bff6-c7c57c886fa3",
   "metadata": {},
   "outputs": [],
   "source": []
  },
  {
   "cell_type": "code",
   "execution_count": null,
   "id": "1a625168-cfae-41a7-a87b-8b88deecc4c9",
   "metadata": {},
   "outputs": [],
   "source": []
  }
 ],
 "metadata": {
  "kernelspec": {
   "display_name": "Python 3 (ipykernel)",
   "language": "python",
   "name": "python3"
  },
  "language_info": {
   "codemirror_mode": {
    "name": "ipython",
    "version": 3
   },
   "file_extension": ".py",
   "mimetype": "text/x-python",
   "name": "python",
   "nbconvert_exporter": "python",
   "pygments_lexer": "ipython3",
   "version": "3.11.7"
  }
 },
 "nbformat": 4,
 "nbformat_minor": 5
}
